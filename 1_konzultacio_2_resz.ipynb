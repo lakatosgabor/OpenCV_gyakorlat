{
  "nbformat": 4,
  "nbformat_minor": 0,
  "metadata": {
    "colab": {
      "provenance": [],
      "include_colab_link": true
    },
    "kernelspec": {
      "name": "python3",
      "display_name": "Python 3"
    },
    "language_info": {
      "name": "python"
    }
  },
  "cells": [
    {
      "cell_type": "markdown",
      "metadata": {
        "id": "view-in-github",
        "colab_type": "text"
      },
      "source": [
        "<a href=\"https://colab.research.google.com/github/lakatosgabor/OpenCV_gyakorlat/blob/main/OpenCV_gyak.ipynb\" target=\"_parent\"><img src=\"https://colab.research.google.com/assets/colab-badge.svg\" alt=\"Open In Colab\"/></a>"
      ]
    },
    {
      "cell_type": "markdown",
      "source": [
        "#1. OpenCV importálás\n",
        "A kódolás megkezdése előtt érdemes az Open CV verzióját lekérni.\n",
        "Egyrészt meg kell vizsgálnunk, hogy létezik-e a futtatókörnyezetben, másrészt az egyes függvényhívások, és a függvények paraméterezései verziónként eltérő lehet.\n",
        "\n",
        "Ha nem áll rendelkezésre, hozz létre egy kód blokkot a bal felső sarokban található \" + Kód \" gommbal, majd futtasd a követező parancsot:\n",
        "\n",
        "```\n",
        "!pip install opencv-python-headless\n",
        "```\n"
      ],
      "metadata": {
        "id": "armjw2OVQ0nr"
      }
    },
    {
      "cell_type": "code",
      "execution_count": 1,
      "metadata": {
        "colab": {
          "base_uri": "https://localhost:8080/"
        },
        "id": "8EUKlwZIQf7a",
        "outputId": "4b109cbe-5047-48cb-c750-1ce4615d0b2a"
      },
      "outputs": [
        {
          "output_type": "stream",
          "name": "stdout",
          "text": [
            "OpenCV verzió: 4.8.0\n"
          ]
        }
      ],
      "source": [
        "import cv2 as cv\n",
        "from matplotlib import pyplot as plt\n",
        "from google.colab.patches import cv2_imshow\n",
        "import numpy as np\n",
        "\n",
        "# OpenCV verziójának lekérdezése\n",
        "versionOfOpenCV = cv.__version__\n",
        "print(\"OpenCV verzió: \" + versionOfOpenCV)"
      ]
    },
    {
      "cell_type": "markdown",
      "source": [
        "#2. Drive csatlakoztatása\n",
        "\n",
        "Futtasd az alábbi kódot a Google Drive tárhely csatlkoztatásához.\n",
        "Add meg a Google által kért engedélyeket."
      ],
      "metadata": {
        "id": "KJBLy5HlT9jc"
      }
    },
    {
      "cell_type": "code",
      "source": [
        "from google.colab import drive\n",
        "drive.mount('/content/drive')"
      ],
      "metadata": {
        "id": "3GQ0GkbDmxeK",
        "outputId": "4c47910f-fcca-4be9-b193-a8282c4ae8d1",
        "colab": {
          "base_uri": "https://localhost:8080/"
        }
      },
      "execution_count": 2,
      "outputs": [
        {
          "output_type": "stream",
          "name": "stdout",
          "text": [
            "Mounted at /content/drive\n"
          ]
        }
      ]
    },
    {
      "cell_type": "markdown",
      "source": [
        "#3. Kép betöltése Google Drive-ból\n",
        "A Drive-ba feltölött fájlokat a \"/content/drive/MyDrive/\" útvonal alatt érhetjük el. Az útvonal megtekinthető a bal oldali File Expoler-ben. Egy adott fájlt javasolt először kikeresni az Expolerben, majd jobb gombbal kattintva másoljuk ki a fájl elérési útvonalát. Ezáltal elkerülhetjük az elgépeléseket."
      ],
      "metadata": {
        "id": "Ou6Y1QdLi1Ni"
      }
    },
    {
      "cell_type": "code",
      "source": [
        "# Beolvassa a \"lena.jpg\" képet a megadott elérési útról, és szürkeárnyalatos képként tárolja el a src változóban.\n",
        "src = cv.imread(\"/content/drive/MyDrive/Pannon/Demonstrátori/órai anyagok/lena.jpg\", cv.IMREAD_GRAYSCALE)\n",
        "plt.imshow(src, 'gray')"
      ],
      "metadata": {
        "id": "IGizsxeci0OD"
      },
      "execution_count": null,
      "outputs": []
    },
    {
      "cell_type": "markdown",
      "source": [
        "#4. Hisztogram kirajzolás\n",
        "**A hisztogram** egy olyan diagram, amely megmutatja a képen található különböző szürkeárnyalati szintek gyakoriságát.\n",
        "\n",
        "\n",
        "\n",
        "Irodalom:\n",
        "- [Hisztogram](https://docs.opencv.org/4.8.0/d4/d1b/tutorial_histogram_equalization.html)"
      ],
      "metadata": {
        "id": "EjKFCsSiR-dD"
      }
    },
    {
      "cell_type": "code",
      "source": [
        "# Contrast Limited Adaptive Histogram Equalization\n",
        "clahe = cv.createCLAHE(clipLimit=2.0, tileGridSize=(8, 8))\n",
        "\n",
        "# Kiszámolja a bemeneti kép hisztogramját és tárolja el a hist_src változóban.\n",
        "hist_src = cv.calcHist([src],[0],None,[256],[0,256])\n",
        "\n",
        "# Elvégez egy kontraszt-kiegyenlítést a src képen, és az eredményt a dst változóban tárolja el.\n",
        "dst = cv.equalizeHist(src)\n",
        "\n",
        "# Kiszámolja a kontraszt-kiegyenlített kép hisztogramját, és tárolja el a hist_dst változóban.\n",
        "hist_dst = cv.calcHist([dst],[0],None,[256],[0,256])\n",
        "\n",
        "# A CLAHE algoritmus alkalmazása a src képre, és az eredményt a dst2 változóban tárolja el. Ez a lépés egy további kontrasztjavítást hajt végre a képen.\n",
        "dst2 = clahe.apply(src)\n",
        "\n",
        "# Kiszámolja a CLAHE után kapott kép hisztogramját, és tárolja el a hist_dst2 változóban.\n",
        "hist_dst2 = cv.calcHist([dst2],[0],None,[256],[0,256])\n",
        "\n",
        "# Elrendezés létrehozás: 2 sor, 3 oszlop\n",
        "f,axs=plt.subplots(2,3,figsize=(20,8))\n",
        "\n",
        "# Az első sorban a következők jelennek meg: eredeti kép, kontraszt-kiegyenlített kép (dst), és CLAHE algoritmus után kapott kép (dst2).\n",
        "plt.subplot(231), plt.imshow(src, 'gray')\n",
        "plt.subplot(232), plt.imshow(dst, 'gray')\n",
        "plt.subplot(233), plt.imshow(dst2, 'gray')\n",
        "\n",
        "# A második sorban a hisztogramok jelennek meg: az eredeti kép hisztogramja (hist_src), a kontraszt-kiegyenlített kép hisztogramja (hist_dst) és a CLAHE után kapott kép hisztogramja (hist_dst2).\n",
        "plt.subplot(234), plt.plot(hist_src)\n",
        "plt.subplot(235), plt.plot(hist_dst)\n",
        "plt.subplot(236), plt.plot(hist_dst2)\n",
        "plt.xlim([0,256])\n",
        "plt.show()"
      ],
      "metadata": {
        "id": "jv772g-KRRrL"
      },
      "execution_count": null,
      "outputs": []
    },
    {
      "cell_type": "markdown",
      "source": [
        "#5. Két kép összehasonítása, különbség méréssel\n",
        "**Mean Square Error (MSE):** A MSE az eredeti kép és a kontraszt-kiegyenlített kép közötti különbséget méri a pixelértékek négyzetes eltéréseinek átlagaként. Minél kisebb az MSE értéke, annál hasonlóbbak a két kép egymáshoz. A konkrét érték, amit megadott (2694.5781860351562), viszonylag magasnak tekinthető, ami azt jelzi, hogy az eredeti és a kontraszt-kiegyenlített kép közötti eltérések elég nagyok.\n",
        "\n",
        "**Structural Similarity Index Measure (SSIM):** Az SSIM egy olyan metrika, amely a képek strukturális hasonlóságát méri, figyelembe véve a luminanciát, a kontrasztot és a szerkezetet. Az SSIM értéke 0 és 1 között változhat, ahol 1 a legjobb hasonlóságot jelenti az eredeti képhez képest. A konkrét érték (0.6183235608593584) közepesnek tekinthető, ami azt jelzi, hogy a kontraszt-kiegyenlített képben még mindig vannak eltérések az eredeti képhez képest, de nem feltétlenül rossz minőségű.\n",
        "\n",
        "**Peak Signal to Noise Ratio (PSNR):** A PSNR egy másik képminőséget mérő metrika, és azt mutatja meg, hogy az eredeti képhez képest milyen mértékű zaj jelenik meg a feldolgozott képen. Minél magasabb a PSNR érték, annál kevesebb zaj van jelen a képen, és jobb a képminőség. A konkrét érték (13.825895712394496) alacsony lehet, ami azt jelentheti, hogy a kontraszt-kiegyenlített képben jelentős zaj jelenik meg a feldolgozás során.\n",
        "\n",
        "Az eredményekből könnyű belátni, hogy egy adott képhez hozáadott kis métékű zaj, nagy eltérést eredményezhet.\n",
        "\n",
        "Irodalom:\n",
        "*   [MSE, SSM](https://pyimagesearch.com/2014/09/15/python-compare-two-images/)\n",
        "*   [PSNR](https://dsp.stackexchange.com/questions/38065/peak-signal-to-noise-ratio-psnr-in-python-for-an-image)\n",
        "\n",
        "\n"
      ],
      "metadata": {
        "id": "iQnQWSducTIa"
      }
    },
    {
      "cell_type": "code",
      "source": [
        "import numpy as np\n",
        "from skimage.metrics import structural_similarity as stsm"
      ],
      "metadata": {
        "id": "CreWh6eCcXUT"
      },
      "execution_count": null,
      "outputs": []
    },
    {
      "cell_type": "code",
      "source": [
        "'''\n",
        "Bemeneti képeket, imageA és imageB, várja paraméterként. Ezeknek a képeknek ugyanolyan méretűnek kell lenniük,\n",
        "mivel a különbségüket számoljuk.\n",
        "Mindkét képet először float típusúvá alakítja át, hogy a különbségeket pontosan lehessen kiszámolni.\n",
        "Az eltérések négyzetét számolja ki a két kép között minden pixelen, majd ezeket összegezi. Az összegzett négyzetes eltérést\n",
        "elosztja a képek összes pixelének számával. Visszatér az MSE értékkel, amelyet a hiba mértékének fejez ki.\n",
        "Minél kisebb az MSE, annál hasonlóbbak a két kép egymáshoz: az alacsonyabb érték azt jelzi, hogy a képek kevésbé különböznek egymástól.\n",
        "'''\n",
        "\n",
        "def meanSquareError(imageA, imageB):\n",
        "    err = np.sum((imageA.astype(\"float\") - imageB.astype(\"float\")) ** 2)\n",
        "    err /= float(imageA.shape[0] * imageA.shape[1])\n",
        "    return err"
      ],
      "metadata": {
        "id": "YYvY41oocjei"
      },
      "execution_count": null,
      "outputs": []
    },
    {
      "cell_type": "code",
      "source": [
        "# Kontraszt-kiegyenlítést az src képen és az eredményt az im2 változóban tároljuk.\n",
        "im2 = cv.equalizeHist(src)\n",
        "\n",
        "# MSE érték meghatározzása az eredeti és a kontraszt-kiegyenlített kép között.\n",
        "mse = meanSquareError(src, im2)\n",
        "\n",
        "# Zajszint meghatároza az eredeti és a kontraszt-kiegyenlített kép között (Peak Signal to Noise Ratio).\n",
        "psnr = cv.PSNR(src, im2)\n",
        "\n",
        "# A strukturális hasonlóság meghatározása az eredeti és a kontraszt-kiegyenlített kép között (Structural Similarity Index Measure).\n",
        "ssim = stsm(src, im2)\n",
        "\n",
        "# Elrendezés létrehozása, 2 oszlop, 1 sor.\n",
        "f,axs=plt.subplots(1,2,figsize=(20,8))\n",
        "\n",
        "# Az ábrán belül két részterületet határoz meg, majd az im1 és im2 képeket jeleníti meg szürkeárnyalatosként az ábrán.\n",
        "# Az egyik részterület az eredeti képet mutatja, a másik pedig a kontraszt-kiegyenlített képet.\n",
        "plt.subplot(221), plt.imshow(src, 'gray')\n",
        "plt.subplot(222), plt.imshow(im2, 'gray')\n",
        "plt.show()\n",
        "\n",
        "# Eredmények kiírása.\n",
        "print(\"Mean Square Error: \", mse)\n",
        "print(\"Peak Signal to Noise Ratio: \", psnr)\n",
        "print(\"Structural Similarity Index Measure: \", ssim)"
      ],
      "metadata": {
        "id": "0s3DVBIKeSNj"
      },
      "execution_count": null,
      "outputs": []
    }
  ]
}
