{
  "nbformat": 4,
  "nbformat_minor": 0,
  "metadata": {
    "colab": {
      "provenance": [],
      "include_colab_link": true
    },
    "kernelspec": {
      "name": "python3",
      "display_name": "Python 3"
    },
    "language_info": {
      "name": "python"
    }
  },
  "cells": [
    {
      "cell_type": "markdown",
      "metadata": {
        "id": "view-in-github",
        "colab_type": "text"
      },
      "source": [
        "<a href=\"https://colab.research.google.com/github/lakatosgabor/OpenCV_gyakorlat/blob/main/1_konzultacio_1_resz.ipynb\" target=\"_parent\"><img src=\"https://colab.research.google.com/assets/colab-badge.svg\" alt=\"Open In Colab\"/></a>"
      ]
    },
    {
      "cell_type": "markdown",
      "source": [
        "#1. Függvvénykönyvtárak importálása\n",
        "\n",
        "Amennyiben az importálás sikertelen, vagy nem érhető el az alábbi commandokkal telepítheted a csomagokat.\n",
        "\n",
        "\n",
        "\n",
        "```\n",
        "!pip install matplotlib\n",
        "!pip install numpy\n",
        "!pip install pandas\n",
        "```\n",
        "\n",
        "\n"
      ],
      "metadata": {
        "id": "armjw2OVQ0nr"
      }
    },
    {
      "cell_type": "code",
      "execution_count": 32,
      "metadata": {
        "id": "8EUKlwZIQf7a"
      },
      "outputs": [],
      "source": [
        "from matplotlib import pyplot as plt\n",
        "import numpy as np\n",
        "import pandas as pd"
      ]
    },
    {
      "cell_type": "markdown",
      "source": [
        "# 2. Néhány alap függvény a NumPy csomagból"
      ],
      "metadata": {
        "id": "obzrK4zTwLhy"
      }
    },
    {
      "cell_type": "code",
      "source": [
        "# 1. NumPy tömb létrehozása\n",
        "arr = np.array([1, 2, 3, 4, 5])\n",
        "print(\"NumPy tömb létrehozása:\")\n",
        "print(arr)\n",
        "\n",
        "# 2. Tömb alapvető információk\n",
        "print(\"\\nTömb mérete és típusa:\")\n",
        "print(\"Méret:\", arr.shape)\n",
        "print(\"Típus:\", arr.dtype)\n",
        "\n",
        "# 3. Tömb műveletek\n",
        "arr2 = np.array([6, 7, 8, 9, 10])\n",
        "print(\"\\nTömb műveletek:\")\n",
        "print(\"Összeadás:\", arr + arr2)\n",
        "print(\"Kivonás:\", arr - arr2)\n",
        "print(\"Szorzás:\", arr * arr2)\n",
        "print(\"Osztás:\", arr / arr2)\n",
        "\n",
        "# 4. Tömb elemeinek kiválasztása\n",
        "print(\"\\nTömb elemeinek kiválasztása:\")\n",
        "print(\"Első elem:\", arr[0])\n",
        "print(\"Tartomány kiválasztása:\", arr[1:4])\n",
        "\n",
        "# 5. Matematikai műveletek tömbön\n",
        "print(\"\\nMatematikai műveletek tömbön:\")\n",
        "print(\"Átlag:\", np.mean(arr))\n",
        "print(\"Szórás:\", np.std(arr))\n",
        "print(\"Legnagyobb elem:\", np.max(arr))\n",
        "print(\"Legkisebb elem:\", np.min(arr))\n",
        "\n",
        "# 6. Tömb létrehozása szekvenciával\n",
        "seq = np.arange(1, 11)\n",
        "print(\"\\nTömb létrehozása szekvenciával:\")\n",
        "print(seq)\n",
        "\n",
        "# 7. Tömb létrehozása nullákkal vagy egyekkel\n",
        "zeros = np.zeros(5)\n",
        "ones = np.ones(5)\n",
        "print(\"\\nTömb létrehozása nullákkal vagy egyekkel:\")\n",
        "print(\"Nullák:\", zeros)\n",
        "print(\"Egyek:\", ones)\n"
      ],
      "metadata": {
        "id": "T9jTptjBytFV"
      },
      "execution_count": null,
      "outputs": []
    },
    {
      "cell_type": "code",
      "source": [
        "# 1. Mátrix létrehozása\n",
        "matrix = np.array([[1, 2, 3],\n",
        "                   [4, 5, 6],\n",
        "                   [7, 8, 9]])\n",
        "print(\"Mátrix létrehozása:\")\n",
        "print(matrix)\n",
        "\n",
        "# 2. Mátrix mérete és típusa\n",
        "print(\"\\nMátrix mérete és típusa:\")\n",
        "print(\"Méret:\", matrix.shape)\n",
        "print(\"Típus:\", matrix.dtype)\n",
        "\n",
        "# 3. Mátrix műveletek\n",
        "matrix2 = np.array([[9, 8, 7],\n",
        "                    [6, 5, 4],\n",
        "                    [3, 2, 1]])\n",
        "print(\"\\nMátrix műveletek:\")\n",
        "print(\"Összeadás:\")\n",
        "print(matrix + matrix2)\n",
        "print(\"Kivonás:\")\n",
        "print(matrix - matrix2)\n",
        "print(\"Szorzás (elemenkénti):\")\n",
        "print(matrix * matrix2)\n",
        "print(\"Mátrix szorzás:\")\n",
        "print(np.dot(matrix, matrix2))\n",
        "\n",
        "# 4. Mátrix elemeinek kiválasztása\n",
        "print(\"\\nMátrix elemeinek kiválasztása:\")\n",
        "print(\"Egy adott elem:\", matrix[1, 1])\n",
        "print(\"Egy sor kiválasztása:\")\n",
        "print(matrix[0, :])\n",
        "print(\"Egy oszlop kiválasztása:\")\n",
        "print(matrix[:, 2])\n",
        "\n",
        "# 5. Mátrix műveletek\n",
        "print(\"\\nMátrix műveletek:\")\n",
        "print(\"Transzponálás:\")\n",
        "print(np.transpose(matrix))\n",
        "print(\"Determináns számítása:\")\n",
        "print(np.linalg.det(matrix))\n",
        "print(\"Inverz számítása:\")\n",
        "# Mátrix determinánsának ellenőrzése\n",
        "determinant = np.linalg.det(matrix)\n",
        "if determinant == 0:\n",
        "    print(\"A mátrix szinguláris, nincs inverze.\")\n",
        "else:\n",
        "    # Inverz számítása csak nem szinguláris mátrixra\n",
        "    inverse_matrix = np.linalg.inv(matrix)\n",
        "    print(\"Mátrix inverze:\")\n",
        "    print(inverse_matrix)\n",
        "\n",
        "# 6. Mátrix létrehozása nullákkal vagy egyekkel\n",
        "zeros_matrix = np.zeros((3, 3))\n",
        "ones_matrix = np.ones((3, 3))\n",
        "print(\"\\nMátrix létrehozása nullákkal vagy egyekkel:\")\n",
        "print(\"Nulla mátrix:\")\n",
        "print(zeros_matrix)\n",
        "print(\"Egységmátrix:\")\n",
        "print(ones_matrix)\n"
      ],
      "metadata": {
        "id": "YOWQwfpSzsqS"
      },
      "execution_count": null,
      "outputs": []
    },
    {
      "cell_type": "markdown",
      "source": [
        "# 3. Néhány alap függvény az MatPlotLib csomagból"
      ],
      "metadata": {
        "id": "TFVxPfck0Ktd"
      }
    },
    {
      "cell_type": "code",
      "source": [
        "# Adatok definiálása\n",
        "x = [1, 2, 3, 4, 5]  # x tengely értékei\n",
        "y = [2, 4, 6, 8, 10]  # y tengely értékei\n",
        "\n",
        "# Vonaldiagram létrehozása\n",
        "plt.plot(x, y)\n",
        "\n",
        "# Diagram címe és tengelyfeliratok\n",
        "plt.title('Egyszerű Vonaldiagram')\n",
        "plt.xlabel('X tengely')\n",
        "plt.ylabel('Y tengely')\n",
        "\n",
        "# Diagram megjelenítése\n",
        "plt.show()\n"
      ],
      "metadata": {
        "id": "_2Tg0VKQ0Q2l"
      },
      "execution_count": null,
      "outputs": []
    },
    {
      "cell_type": "code",
      "source": [
        "# Adatok definiálása\n",
        "categories = ['A', 'B', 'C', 'D', 'E']  # Kategóriák\n",
        "values = [15, 28, 24, 20, 18]  # Oszlopok magassága\n",
        "\n",
        "# Oszlopdiagram létrehozása\n",
        "plt.bar(categories, values)\n",
        "\n",
        "# Diagram címe és tengelyfeliratok\n",
        "plt.title('Oszlopdiagram példa')\n",
        "plt.xlabel('Kategóriák')\n",
        "plt.ylabel('Értékek')\n",
        "\n",
        "# Diagram megjelenítése\n",
        "plt.show()\n"
      ],
      "metadata": {
        "id": "LSw6UtPU1Aw6"
      },
      "execution_count": null,
      "outputs": []
    },
    {
      "cell_type": "code",
      "source": [
        "# Adatok létrehozása\n",
        "x = np.linspace(0, 2 * np.pi, 100)  # 0-tól 2π-ig tartó 100 egyenletes lépésű pont\n",
        "y = np.sin(x)  # Sinus függvény értékei\n",
        "\n",
        "# Vonal vagy görbe kirajzolása\n",
        "plt.plot(x, y)\n",
        "\n",
        "# Diagram címe és tengelyfeliratok\n",
        "plt.title('Sinus görbe')\n",
        "plt.xlabel('X tengely')\n",
        "plt.ylabel('Y tengely')\n",
        "\n",
        "# Diagram megjelenítése\n",
        "plt.show()\n"
      ],
      "metadata": {
        "id": "YoiRWKVa1N6_"
      },
      "execution_count": null,
      "outputs": []
    },
    {
      "cell_type": "markdown",
      "source": [
        "#4. Néhány alap függvény a Pandas csomagból"
      ],
      "metadata": {
        "id": "Ps6tLYcq2KGK"
      }
    },
    {
      "cell_type": "code",
      "source": [
        "# Két mátrix létrehozása\n",
        "matrix_A = np.array([[1, 2, 3],\n",
        "                     [4, 5, 6],\n",
        "                     [7, 8, 9]])\n",
        "\n",
        "matrix_B = np.array([[9, 8, 7],\n",
        "                     [6, 5, 4],\n",
        "                     [3, 2, 1]])\n",
        "\n",
        "# Mátrixszorzás\n",
        "result_matrix = np.dot(matrix_A, matrix_B)\n",
        "print(\"Mátrixszorzás eredménye:\")\n",
        "print(result_matrix)\n",
        "\n",
        "# Mátrix transzponálása\n",
        "transposed_matrix_A = np.transpose(matrix_A)\n",
        "print(\"\\nMátrix A transzponáltja:\")\n",
        "print(transposed_matrix_A)\n",
        "\n",
        "# Mátrix determináns számítása\n",
        "determinant_A = np.linalg.det(matrix_A)\n",
        "print(\"\\nMátrix A determinánsa:\")\n",
        "print(determinant_A)\n"
      ],
      "metadata": {
        "id": "6B7gUlkk3esk"
      },
      "execution_count": null,
      "outputs": []
    },
    {
      "cell_type": "code",
      "source": [
        "# Adattábla létrehozása\n",
        "data = {'Name': ['Alice', 'Bob', 'Charlie', 'David', 'Eva'],\n",
        "        'Age': [25, 30, 35, 28, 22],\n",
        "        'City': ['New York', 'San Francisco', 'Los Angeles', 'Chicago', 'Miami']}\n",
        "\n",
        "df = pd.DataFrame(data)\n",
        "\n",
        "# Adattábla megjelenítése\n",
        "print(\"Eredeti adattábla:\")\n",
        "print(df)\n",
        "\n",
        "# Adatok szűrése\n",
        "filtered_data = df[df['Age'] > 25]\n",
        "print(\"\\n25 év feletti személyek:\")\n",
        "print(filtered_data)\n",
        "\n",
        "# Új oszlop hozzáadása\n",
        "df['Salary'] = [50000, 60000, 75000, 48000, 55000]\n",
        "print(\"\\nAdattábla az új 'Salary' oszloppal:\")\n",
        "print(df)\n",
        "\n",
        "# Oszlopok átnevezése\n",
        "df.rename(columns={'Age': 'Életkor', 'City': 'Város'}, inplace=True)\n",
        "print(\"\\nÁtnevezett oszlopok:\")\n",
        "print(df)\n",
        "\n",
        "# Adattábla összegzése\n",
        "summary = df.describe()\n",
        "print(\"\\nStatisztikai összegzés:\")\n",
        "print(summary)\n"
      ],
      "metadata": {
        "id": "cDEP-Zc-2TVp"
      },
      "execution_count": null,
      "outputs": []
    }
  ]
}