{
  "nbformat": 4,
  "nbformat_minor": 0,
  "metadata": {
    "colab": {
      "provenance": [],
      "include_colab_link": true
    },
    "kernelspec": {
      "name": "python3",
      "display_name": "Python 3"
    },
    "language_info": {
      "name": "python"
    }
  },
  "cells": [
    {
      "cell_type": "markdown",
      "metadata": {
        "id": "view-in-github",
        "colab_type": "text"
      },
      "source": [
        "<a href=\"https://colab.research.google.com/github/lakatosgabor/OpenCV_gyakorlat/blob/main/1_konzultacio_1_resz_alap_fuggvenyek.ipynb\" target=\"_parent\"><img src=\"https://colab.research.google.com/assets/colab-badge.svg\" alt=\"Open In Colab\"/></a>"
      ]
    },
    {
      "cell_type": "markdown",
      "source": [
        "#1. Függvvénykönyvtárak importálása\n",
        "\n",
        "Amennyiben az importálás sikertelen, vagy nem érhető el az alábbi commandokkal telepítheted a csomagokat.\n",
        "\n",
        "\n",
        "\n",
        "```\n",
        "!pip install matplotlib\n",
        "!pip install numpy\n",
        "!pip install pandas\n",
        "```\n",
        "\n",
        "\n"
      ],
      "metadata": {
        "id": "armjw2OVQ0nr"
      }
    },
    {
      "cell_type": "code",
      "execution_count": null,
      "metadata": {
        "id": "8EUKlwZIQf7a"
      },
      "outputs": [],
      "source": [
        "from matplotlib import pyplot as plt\n",
        "import numpy as np\n",
        "import pandas as pd"
      ]
    },
    {
      "cell_type": "markdown",
      "source": [
        "# 2. Néhány alap függvény a NumPy csomagból\n",
        "A NumPy egy Python könyvtár, amelyet számításokhoz és adatmanipulációhoz használnak. A NumPy (Numerical Python) tudományos számításokra specializálódott. Lehetővé teszi tömbök, mátrixok hatékony létrehozását, és az azokkal való hatékony művelet végrehajtást."
      ],
      "metadata": {
        "id": "obzrK4zTwLhy"
      }
    },
    {
      "cell_type": "markdown",
      "source": [
        "## 2.1 Tömb műveletek"
      ],
      "metadata": {
        "id": "rotHGrRRrhL0"
      }
    },
    {
      "cell_type": "code",
      "source": [
        "# 1. NumPy tömb létrehozása\n",
        "arr = np.array([1, 2, 3, 4, 5])\n",
        "print(\"NumPy tömb létrehozása:\")\n",
        "print(arr)"
      ],
      "metadata": {
        "id": "T9jTptjBytFV",
        "outputId": "56c1032c-d17e-4552-eb55-2b4c6199305a",
        "colab": {
          "base_uri": "https://localhost:8080/"
        }
      },
      "execution_count": null,
      "outputs": [
        {
          "output_type": "stream",
          "name": "stdout",
          "text": [
            "NumPy tömb létrehozása:\n",
            "[1 2 3 4 5]\n"
          ]
        }
      ]
    },
    {
      "cell_type": "code",
      "source": [
        "# 2. Tömb alapvető információk\n",
        "print(\"\\nTömb mérete és típusa:\")\n",
        "print(\"Méret:\", arr.shape)\n",
        "print(\"Típus:\", arr.dtype)"
      ],
      "metadata": {
        "id": "eTgnq_M9qyrX",
        "outputId": "21c3d45b-f607-4a3a-ba63-cb4e914c9b06",
        "colab": {
          "base_uri": "https://localhost:8080/"
        }
      },
      "execution_count": null,
      "outputs": [
        {
          "output_type": "stream",
          "name": "stdout",
          "text": [
            "\n",
            "Tömb mérete és típusa:\n",
            "Méret: (5,)\n",
            "Típus: int64\n"
          ]
        }
      ]
    },
    {
      "cell_type": "code",
      "source": [
        "# 3. Tömb műveletek\n",
        "arr2 = np.array([6, 7, 8, 9, 10])\n",
        "print(\"\\nTömb műveletek:\")\n",
        "print(\"Összeadás:\", arr + arr2)\n",
        "print(\"Kivonás:\", arr - arr2)\n",
        "print(\"Szorzás:\", arr * arr2)\n",
        "print(\"Osztás:\", arr / arr2)"
      ],
      "metadata": {
        "id": "ryfHSwchq13V",
        "outputId": "20a19be8-d05a-4c4e-b55f-13eaf868d03e",
        "colab": {
          "base_uri": "https://localhost:8080/"
        }
      },
      "execution_count": null,
      "outputs": [
        {
          "output_type": "stream",
          "name": "stdout",
          "text": [
            "\n",
            "Tömb műveletek:\n",
            "Összeadás: [ 7  9 11 13 15]\n",
            "Kivonás: [-5 -5 -5 -5 -5]\n",
            "Szorzás: [ 6 14 24 36 50]\n",
            "Osztás: [0.16666667 0.28571429 0.375      0.44444444 0.5       ]\n"
          ]
        }
      ]
    },
    {
      "cell_type": "code",
      "source": [
        "# 4. Tömb elemeinek kiválasztása\n",
        "print(\"\\nTömb elemeinek kiválasztása:\")\n",
        "print(\"Első elem:\", arr[0])\n",
        "print(\"Tartomány kiválasztása:\", arr[1:4])"
      ],
      "metadata": {
        "id": "4I_pVMGAq4qO",
        "outputId": "00dd8e10-22af-40d8-8422-6c9fefb1b7b9",
        "colab": {
          "base_uri": "https://localhost:8080/"
        }
      },
      "execution_count": null,
      "outputs": [
        {
          "output_type": "stream",
          "name": "stdout",
          "text": [
            "\n",
            "Tömb elemeinek kiválasztása:\n",
            "Első elem: 1\n",
            "Tartomány kiválasztása: [2 3 4]\n"
          ]
        }
      ]
    },
    {
      "cell_type": "code",
      "source": [
        "# 5. Matematikai műveletek tömbön\n",
        "print(\"\\nMatematikai műveletek tömbön:\")\n",
        "print(\"Átlag:\", np.mean(arr))\n",
        "print(\"Szórás:\", np.std(arr))\n",
        "print(\"Legnagyobb elem:\", np.max(arr))\n",
        "print(\"Legkisebb elem:\", np.min(arr))"
      ],
      "metadata": {
        "id": "Uv_FbwQCq7Tl",
        "outputId": "b8375dc9-90a3-4c8a-e45c-307012b5865d",
        "colab": {
          "base_uri": "https://localhost:8080/"
        }
      },
      "execution_count": null,
      "outputs": [
        {
          "output_type": "stream",
          "name": "stdout",
          "text": [
            "\n",
            "Matematikai műveletek tömbön:\n",
            "Átlag: 3.0\n",
            "Szórás: 1.4142135623730951\n",
            "Legnagyobb elem: 5\n",
            "Legkisebb elem: 1\n"
          ]
        }
      ]
    },
    {
      "cell_type": "code",
      "source": [
        "# 6. Tömb létrehozása szekvenciával\n",
        "seq = np.arange(1, 11)\n",
        "print(\"\\nTömb létrehozása szekvenciával:\")\n",
        "print(seq)"
      ],
      "metadata": {
        "id": "XdZk4YYdq9-l",
        "outputId": "36983ee2-e7e4-4844-8ec7-da28420a2583",
        "colab": {
          "base_uri": "https://localhost:8080/"
        }
      },
      "execution_count": null,
      "outputs": [
        {
          "output_type": "stream",
          "name": "stdout",
          "text": [
            "\n",
            "Tömb létrehozása szekvenciával:\n",
            "[ 1  2  3  4  5  6  7  8  9 10]\n"
          ]
        }
      ]
    },
    {
      "cell_type": "code",
      "source": [
        "# 7. Tömb létrehozása nullákkal vagy egyekkel\n",
        "zeros = np.zeros(5)\n",
        "ones = np.ones(5)\n",
        "print(\"\\nTömb létrehozása nullákkal vagy egyekkel:\")\n",
        "print(\"Nullák:\", zeros)\n",
        "print(\"Egyek:\", ones)"
      ],
      "metadata": {
        "id": "xH5SM0eVrAs9",
        "outputId": "b7f53aeb-345d-4313-dbc8-686c0532b952",
        "colab": {
          "base_uri": "https://localhost:8080/"
        }
      },
      "execution_count": null,
      "outputs": [
        {
          "output_type": "stream",
          "name": "stdout",
          "text": [
            "\n",
            "Tömb létrehozása nullákkal vagy egyekkel:\n",
            "Nullák: [0. 0. 0. 0. 0.]\n",
            "Egyek: [1. 1. 1. 1. 1.]\n"
          ]
        }
      ]
    },
    {
      "cell_type": "markdown",
      "source": [
        "## 2.2 Mátrix műveletek"
      ],
      "metadata": {
        "id": "JPNlpCerruP8"
      }
    },
    {
      "cell_type": "code",
      "source": [
        "# 1. Mátrix létrehozása\n",
        "matrix = np.array([[1, 2, 3],\n",
        "                   [4, 5, 6],\n",
        "                   [7, 8, 9]])\n",
        "print(\"Mátrix létrehozása:\")\n",
        "print(matrix)"
      ],
      "metadata": {
        "id": "YOWQwfpSzsqS",
        "outputId": "5b2e398d-6add-4db5-adc9-221c1bca2f15",
        "colab": {
          "base_uri": "https://localhost:8080/"
        }
      },
      "execution_count": null,
      "outputs": [
        {
          "output_type": "stream",
          "name": "stdout",
          "text": [
            "Mátrix létrehozása:\n",
            "[[1 2 3]\n",
            " [4 5 6]\n",
            " [7 8 9]]\n"
          ]
        }
      ]
    },
    {
      "cell_type": "code",
      "source": [
        "# 2. Mátrix mérete és típusa\n",
        "print(\"\\nMátrix mérete és típusa:\")\n",
        "print(\"Méret:\", matrix.shape)\n",
        "print(\"Típus:\", matrix.dtype)"
      ],
      "metadata": {
        "id": "mHtPrpU3rTfW",
        "outputId": "979f263e-fc00-40ab-fc9b-9df8703dce03",
        "colab": {
          "base_uri": "https://localhost:8080/"
        }
      },
      "execution_count": null,
      "outputs": [
        {
          "output_type": "stream",
          "name": "stdout",
          "text": [
            "\n",
            "Mátrix mérete és típusa:\n",
            "Méret: (3, 3)\n",
            "Típus: int64\n"
          ]
        }
      ]
    },
    {
      "cell_type": "code",
      "source": [
        "# 3. Mátrix műveletek\n",
        "matrix2 = np.array([[9, 8, 7],\n",
        "                    [6, 5, 4],\n",
        "                    [3, 2, 1]])\n",
        "print(\"\\nMátrix műveletek:\")\n",
        "print(\"Összeadás:\")\n",
        "print(matrix + matrix2)\n",
        "print(\"Kivonás:\")\n",
        "print(matrix - matrix2)\n",
        "print(\"Szorzás (elemenkénti):\")\n",
        "print(matrix * matrix2)\n",
        "print(\"Mátrix szorzás:\")\n",
        "print(np.dot(matrix, matrix2))"
      ],
      "metadata": {
        "id": "n5a4qTFcrVhs",
        "outputId": "6b58c311-7d15-46a9-98d3-0eb61f590fda",
        "colab": {
          "base_uri": "https://localhost:8080/"
        }
      },
      "execution_count": null,
      "outputs": [
        {
          "output_type": "stream",
          "name": "stdout",
          "text": [
            "\n",
            "Mátrix műveletek:\n",
            "Összeadás:\n",
            "[[10 10 10]\n",
            " [10 10 10]\n",
            " [10 10 10]]\n",
            "Kivonás:\n",
            "[[-8 -6 -4]\n",
            " [-2  0  2]\n",
            " [ 4  6  8]]\n",
            "Szorzás (elemenkénti):\n",
            "[[ 9 16 21]\n",
            " [24 25 24]\n",
            " [21 16  9]]\n",
            "Mátrix szorzás:\n",
            "[[ 30  24  18]\n",
            " [ 84  69  54]\n",
            " [138 114  90]]\n"
          ]
        }
      ]
    },
    {
      "cell_type": "code",
      "source": [
        "# 4. Mátrix elemeinek kiválasztása\n",
        "print(\"\\nMátrix elemeinek kiválasztása:\")\n",
        "print(\"Egy adott elem:\", matrix[1, 1])\n",
        "print(\"Egy sor kiválasztása:\")\n",
        "print(matrix[0, :])\n",
        "print(\"Egy oszlop kiválasztása:\")\n",
        "print(matrix[:, 2])"
      ],
      "metadata": {
        "id": "aH6GrHMqrX8F",
        "outputId": "fb8c4834-7229-4b8d-9fa9-03762248c18d",
        "colab": {
          "base_uri": "https://localhost:8080/"
        }
      },
      "execution_count": null,
      "outputs": [
        {
          "output_type": "stream",
          "name": "stdout",
          "text": [
            "\n",
            "Mátrix elemeinek kiválasztása:\n",
            "Egy adott elem: 5\n",
            "Egy sor kiválasztása:\n",
            "[1 2 3]\n",
            "Egy oszlop kiválasztása:\n",
            "[3 6 9]\n"
          ]
        }
      ]
    },
    {
      "cell_type": "code",
      "source": [
        "# 5. Mátrix műveletek\n",
        "print(\"\\nMátrix műveletek:\")\n",
        "print(\"Transzponálás:\")\n",
        "print(np.transpose(matrix))\n",
        "print(\"Determináns számítása:\")\n",
        "print(np.linalg.det(matrix))\n",
        "print(\"Inverz számítása:\")\n",
        "# Mátrix determinánsának ellenőrzése\n",
        "determinant = np.linalg.det(matrix)\n",
        "if determinant == 0:\n",
        "    print(\"A mátrix szinguláris, nincs inverze.\")\n",
        "else:\n",
        "    # Inverz számítása csak nem szinguláris mátrixra\n",
        "    inverse_matrix = np.linalg.inv(matrix)\n",
        "    print(\"Mátrix inverze:\")\n",
        "    print(inverse_matrix)"
      ],
      "metadata": {
        "id": "PlJD_kBdrZfM",
        "outputId": "b9007159-4389-431b-a5ed-e1214edee71a",
        "colab": {
          "base_uri": "https://localhost:8080/"
        }
      },
      "execution_count": null,
      "outputs": [
        {
          "output_type": "stream",
          "name": "stdout",
          "text": [
            "\n",
            "Mátrix műveletek:\n",
            "Transzponálás:\n",
            "[[1 4 7]\n",
            " [2 5 8]\n",
            " [3 6 9]]\n",
            "Determináns számítása:\n",
            "0.0\n",
            "Inverz számítása:\n",
            "A mátrix szinguláris, nincs inverze.\n"
          ]
        }
      ]
    },
    {
      "cell_type": "code",
      "source": [
        "# 6. Mátrix létrehozása nullákkal vagy egyekkel\n",
        "zeros_matrix = np.zeros((3, 3))\n",
        "ones_matrix = np.ones((3, 3))\n",
        "print(\"\\nMátrix létrehozása nullákkal vagy egyekkel:\")\n",
        "print(\"Nulla mátrix:\")\n",
        "print(zeros_matrix)\n",
        "print(\"Egységmátrix:\")\n",
        "print(ones_matrix)"
      ],
      "metadata": {
        "id": "WOlHV5nfrekU",
        "outputId": "a8377ad2-add6-46fc-cb8e-cfd8023beee6",
        "colab": {
          "base_uri": "https://localhost:8080/"
        }
      },
      "execution_count": null,
      "outputs": [
        {
          "output_type": "stream",
          "name": "stdout",
          "text": [
            "\n",
            "Mátrix létrehozása nullákkal vagy egyekkel:\n",
            "Nulla mátrix:\n",
            "[[0. 0. 0.]\n",
            " [0. 0. 0.]\n",
            " [0. 0. 0.]]\n",
            "Egységmátrix:\n",
            "[[1. 1. 1.]\n",
            " [1. 1. 1.]\n",
            " [1. 1. 1.]]\n"
          ]
        }
      ]
    },
    {
      "cell_type": "markdown",
      "source": [
        "# 3. Néhány alap függvény az MatPlotLib csomagból\n",
        "A Matplotlib egy Python könyvtár, amelyet adatvizualizációhoz és grafikonok készítéséhez használnak. A Matplotlib lehetővé teszi a fejlesztők számára, hogy különböző típusú grafikonokat, diagramokat, ábrákat és más vizualizációs elemeket hozzanak létre a Python programjaikban. Ezzel a könyvtárral számos adatot könnyen és hatékonyan meg lehet jeleníteni, ami segít az adatok vizsgálatában és megértésében."
      ],
      "metadata": {
        "id": "TFVxPfck0Ktd"
      }
    },
    {
      "cell_type": "markdown",
      "source": [
        "## 3.1 Vonal diagram létrehozása, kirajzolása"
      ],
      "metadata": {
        "id": "mQZfeF2nr9WV"
      }
    },
    {
      "cell_type": "code",
      "source": [
        "# Adatok definiálása\n",
        "x = [1, 2, 3, 4, 5]  # x tengely értékei\n",
        "y = [2, 4, 6, 8, 10]  # y tengely értékei\n",
        "\n",
        "# Vonaldiagram létrehozása\n",
        "plt.plot(x, y)\n",
        "\n",
        "# Diagram címe és tengelyfeliratok\n",
        "plt.title('Egyszerű Vonaldiagram')\n",
        "plt.xlabel('X tengely')\n",
        "plt.ylabel('Y tengely')\n",
        "\n",
        "# Diagram megjelenítése\n",
        "plt.show()\n"
      ],
      "metadata": {
        "id": "_2Tg0VKQ0Q2l",
        "outputId": "91ff9432-4f87-471d-e635-327f8e723225",
        "colab": {
          "base_uri": "https://localhost:8080/",
          "height": 472
        }
      },
      "execution_count": null,
      "outputs": [
        {
          "output_type": "display_data",
          "data": {
            "text/plain": [
              "<Figure size 640x480 with 1 Axes>"
            ],
            "image/png": "[encoded data removed]"
          },
          "metadata": {}
        }
      ]
    },
    {
      "cell_type": "markdown",
      "source": [
        "## 3.2 Oszlop diagram létrehozása, kirajzolása"
      ],
      "metadata": {
        "id": "UWquvAlUsOGl"
      }
    },
    {
      "cell_type": "code",
      "source": [
        "# Adatok definiálása\n",
        "categories = ['A', 'B', 'C', 'D', 'E']  # Kategóriák\n",
        "values = [15, 28, 24, 20, 18]  # Oszlopok magassága\n",
        "\n",
        "# Oszlopdiagram létrehozása\n",
        "plt.bar(categories, values)\n",
        "\n",
        "# Diagram címe és tengelyfeliratok\n",
        "plt.title('Oszlopdiagram példa')\n",
        "plt.xlabel('Kategóriák')\n",
        "plt.ylabel('Értékek')\n",
        "\n",
        "# Diagram megjelenítése\n",
        "plt.show()\n"
      ],
      "metadata": {
        "id": "LSw6UtPU1Aw6",
        "outputId": "7e89b0f5-b569-49aa-f39e-e983ac2e28ac",
        "colab": {
          "base_uri": "https://localhost:8080/",
          "height": 473
        }
      },
      "execution_count": null,
      "outputs": [
        {
          "output_type": "display_data",
          "data": {
            "text/plain": [
              "<Figure size 640x480 with 1 Axes>"
            ],
            "image/png": "[encoded data removed]"
          },
          "metadata": {}
        }
      ]
    },
    {
      "cell_type": "markdown",
      "source": [
        "## 3.3 Sinus görbe létrehozása, kirajzolása"
      ],
      "metadata": {
        "id": "VE9-195ssSzF"
      }
    },
    {
      "cell_type": "code",
      "source": [
        "# Adatok létrehozása\n",
        "x = np.linspace(0, 2 * np.pi, 100)  # 0-tól 2π-ig tartó 100 egyenletes lépésű pont\n",
        "y = np.sin(x)  # Sinus függvény értékei\n",
        "\n",
        "# Vonal vagy görbe kirajzolása\n",
        "plt.plot(x, y)\n",
        "\n",
        "# Diagram címe és tengelyfeliratok\n",
        "plt.title('Sinus görbe')\n",
        "plt.xlabel('X tengely')\n",
        "plt.ylabel('Y tengely')\n",
        "\n",
        "# Diagram megjelenítése\n",
        "plt.show()\n"
      ],
      "metadata": {
        "id": "YoiRWKVa1N6_",
        "outputId": "225204e7-998c-465f-f322-81c1a0d8468b",
        "colab": {
          "base_uri": "https://localhost:8080/",
          "height": 472
        }
      },
      "execution_count": null,
      "outputs": [
        {
          "output_type": "display_data",
          "data": {
            "text/plain": [
              "<Figure size 640x480 with 1 Axes>"
            ],
            "image/png": "[encoded data removed]"
          },
          "metadata": {}
        }
      ]
    },
    {
      "cell_type": "markdown",
      "source": [
        "#4. Néhány alap függvény a Pandas csomagból\n",
        "A Pandas egy Python könyvtár és adattárolási, -manipulációs és -elemzési eszköz, amely különösen erőteljes és népszerű az adatok feldolgozásában és analízisében. A Pandas segítségével könnyedén lehet dolgozni strukturált adatokkal, például táblázatokkal és adatkeretekkel, és lehetővé teszi az ilyen adatok importálását, exportálását, szűrését, csoportosítását, aggregálását és vizualizációját."
      ],
      "metadata": {
        "id": "Ps6tLYcq2KGK"
      }
    },
    {
      "cell_type": "markdown",
      "source": [
        "## 4.1 Mátrix műveletek"
      ],
      "metadata": {
        "id": "wVDSUQ-xsoA-"
      }
    },
    {
      "cell_type": "code",
      "source": [
        "# Két mátrix létrehozása\n",
        "matrix_A = np.array([[1, 2, 3],\n",
        "                     [4, 5, 6],\n",
        "                     [7, 8, 9]])\n",
        "\n",
        "matrix_B = np.array([[9, 8, 7],\n",
        "                     [6, 5, 4],\n",
        "                     [3, 2, 1]])"
      ],
      "metadata": {
        "id": "6B7gUlkk3esk"
      },
      "execution_count": null,
      "outputs": []
    },
    {
      "cell_type": "code",
      "source": [
        "# Mátrixszorzás\n",
        "result_matrix = np.dot(matrix_A, matrix_B)\n",
        "print(\"Mátrixszorzás eredménye:\")\n",
        "print(result_matrix)"
      ],
      "metadata": {
        "id": "DlK5TgI8s3b-",
        "outputId": "f23a8a33-4752-415d-ec00-62b0b8ed5ad7",
        "colab": {
          "base_uri": "https://localhost:8080/"
        }
      },
      "execution_count": null,
      "outputs": [
        {
          "output_type": "stream",
          "name": "stdout",
          "text": [
            "Mátrixszorzás eredménye:\n",
            "[[ 30  24  18]\n",
            " [ 84  69  54]\n",
            " [138 114  90]]\n"
          ]
        }
      ]
    },
    {
      "cell_type": "code",
      "source": [
        "# Mátrix transzponálása\n",
        "transposed_matrix_A = np.transpose(matrix_A)\n",
        "print(\"\\nMátrix A transzponáltja:\")\n",
        "print(transposed_matrix_A)"
      ],
      "metadata": {
        "id": "jAWJo58ws42d",
        "outputId": "19d1b258-cf2d-4659-ea85-d35f7b02d280",
        "colab": {
          "base_uri": "https://localhost:8080/"
        }
      },
      "execution_count": null,
      "outputs": [
        {
          "output_type": "stream",
          "name": "stdout",
          "text": [
            "\n",
            "Mátrix A transzponáltja:\n",
            "[[1 4 7]\n",
            " [2 5 8]\n",
            " [3 6 9]]\n"
          ]
        }
      ]
    },
    {
      "cell_type": "code",
      "source": [
        "# Mátrix determináns számítása\n",
        "determinant_A = np.linalg.det(matrix_A)\n",
        "print(\"\\nMátrix A determinánsa:\")\n",
        "print(determinant_A)"
      ],
      "metadata": {
        "id": "ilMtperPs7I2",
        "outputId": "56fb090b-6ab5-47fe-d6f8-a38751136377",
        "colab": {
          "base_uri": "https://localhost:8080/"
        }
      },
      "execution_count": null,
      "outputs": [
        {
          "output_type": "stream",
          "name": "stdout",
          "text": [
            "\n",
            "Mátrix A determinánsa:\n",
            "0.0\n"
          ]
        }
      ]
    },
    {
      "cell_type": "markdown",
      "source": [
        "## 4.2 Adattábla műveletek"
      ],
      "metadata": {
        "id": "RJQQKAGwss1t"
      }
    },
    {
      "cell_type": "code",
      "source": [
        "# Adattábla létrehozása\n",
        "data = {'Name': ['Alice', 'Bob', 'Charlie', 'David', 'Eva'],\n",
        "        'Age': [25, 30, 35, 28, 22],\n",
        "        'City': ['New York', 'San Francisco', 'Los Angeles', 'Chicago', 'Miami']}\n",
        "\n",
        "df = pd.DataFrame(data)\n",
        "\n",
        "# Adattábla megjelenítése\n",
        "print(\"Eredeti adattábla:\")\n",
        "print(df)"
      ],
      "metadata": {
        "id": "cDEP-Zc-2TVp",
        "outputId": "6e1c37ec-72e2-446a-bdf6-370d1aac6397",
        "colab": {
          "base_uri": "https://localhost:8080/"
        }
      },
      "execution_count": null,
      "outputs": [
        {
          "output_type": "stream",
          "name": "stdout",
          "text": [
            "Eredeti adattábla:\n",
            "      Name  Age           City\n",
            "0    Alice   25       New York\n",
            "1      Bob   30  San Francisco\n",
            "2  Charlie   35    Los Angeles\n",
            "3    David   28        Chicago\n",
            "4      Eva   22          Miami\n"
          ]
        }
      ]
    },
    {
      "cell_type": "code",
      "source": [
        "# Adatok szűrése\n",
        "filtered_data = df[df['Age'] > 25]\n",
        "print(\"\\n25 év feletti személyek:\")\n",
        "print(filtered_data)"
      ],
      "metadata": {
        "id": "USienleetIHd",
        "outputId": "122f4625-af47-425c-ef4c-aa2423890c1f",
        "colab": {
          "base_uri": "https://localhost:8080/"
        }
      },
      "execution_count": null,
      "outputs": [
        {
          "output_type": "stream",
          "name": "stdout",
          "text": [
            "\n",
            "25 év feletti személyek:\n",
            "      Name  Age           City\n",
            "1      Bob   30  San Francisco\n",
            "2  Charlie   35    Los Angeles\n",
            "3    David   28        Chicago\n"
          ]
        }
      ]
    },
    {
      "cell_type": "code",
      "source": [
        "# Új oszlop hozzáadása\n",
        "df['Salary'] = [50000, 60000, 75000, 48000, 55000]\n",
        "print(\"\\nAdattábla az új 'Salary' oszloppal:\")\n",
        "print(df)"
      ],
      "metadata": {
        "id": "Ez1czdzYtKAd",
        "outputId": "f4a25bac-9d01-4dd1-b714-5206003e5d17",
        "colab": {
          "base_uri": "https://localhost:8080/"
        }
      },
      "execution_count": null,
      "outputs": [
        {
          "output_type": "stream",
          "name": "stdout",
          "text": [
            "\n",
            "Adattábla az új 'Salary' oszloppal:\n",
            "      Name  Age           City  Salary\n",
            "0    Alice   25       New York   50000\n",
            "1      Bob   30  San Francisco   60000\n",
            "2  Charlie   35    Los Angeles   75000\n",
            "3    David   28        Chicago   48000\n",
            "4      Eva   22          Miami   55000\n"
          ]
        }
      ]
    },
    {
      "cell_type": "code",
      "source": [
        "# Oszlopok átnevezése\n",
        "df.rename(columns={'Age': 'Életkor', 'City': 'Város'}, inplace=True)\n",
        "print(\"\\nÁtnevezett oszlopok:\")\n",
        "print(df)"
      ],
      "metadata": {
        "id": "WCCkOJENtLhl",
        "outputId": "654cfa11-5540-432e-e317-43dd0d1f17e4",
        "colab": {
          "base_uri": "https://localhost:8080/"
        }
      },
      "execution_count": null,
      "outputs": [
        {
          "output_type": "stream",
          "name": "stdout",
          "text": [
            "\n",
            "Átnevezett oszlopok:\n",
            "      Name  Életkor          Város  Salary\n",
            "0    Alice       25       New York   50000\n",
            "1      Bob       30  San Francisco   60000\n",
            "2  Charlie       35    Los Angeles   75000\n",
            "3    David       28        Chicago   48000\n",
            "4      Eva       22          Miami   55000\n"
          ]
        }
      ]
    },
    {
      "cell_type": "code",
      "source": [
        "# Adattábla összegzése\n",
        "summary = df.describe()\n",
        "print(\"\\nStatisztikai összegzés:\")\n",
        "print(summary)"
      ],
      "metadata": {
        "id": "9OLRHh50tM4f",
        "outputId": "2d7bd467-9b61-46bf-d94e-1717ef50305a",
        "colab": {
          "base_uri": "https://localhost:8080/"
        }
      },
      "execution_count": null,
      "outputs": [
        {
          "output_type": "stream",
          "name": "stdout",
          "text": [
            "\n",
            "Statisztikai összegzés:\n",
            "         Életkor        Salary\n",
            "count   5.000000      5.000000\n",
            "mean   28.000000  57600.000000\n",
            "std     4.949747  10784.247772\n",
            "min    22.000000  48000.000000\n",
            "25%    25.000000  50000.000000\n",
            "50%    28.000000  55000.000000\n",
            "75%    30.000000  60000.000000\n",
            "max    35.000000  75000.000000\n"
          ]
        }
      ]
    }
  ]
}